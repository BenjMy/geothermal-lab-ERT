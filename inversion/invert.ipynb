{
 "cells": [
  {
   "cell_type": "code",
   "execution_count": 11,
   "id": "fatty-savannah",
   "metadata": {},
   "outputs": [],
   "source": [
    "import pybert as pb\n",
    "import pygimli as pg\n",
    "import numpy as np\n",
    "import pygimli.meshtools as mt\n",
    "from pygimli.viewer.pv import drawSensors\n",
    "from pygimli.physics.ert import simulate as simulateERT\n",
    "from pygimli.viewer.pv import drawStreamLines, drawSlice"
   ]
  },
  {
   "cell_type": "code",
   "execution_count": 12,
   "id": "played-hopkins",
   "metadata": {},
   "outputs": [
    {
     "name": "stderr",
     "output_type": "stream",
     "text": [
      "05/03/21 - 12:58:13 - pyGIMLi - \u001b[0;32;49mINFO\u001b[0m - imported:  Data: Electrodes: 48 data: 2194\n",
      "05/03/21 - 12:58:13 - pyGIMLi - \u001b[0;32;49mINFO\u001b[0m - imported:  Data: Electrodes: 48 data: 2194\n"
     ]
    }
   ],
   "source": [
    "inputfileERT = '3d_data_test.data'\n",
    "elecs_raw = np.genfromtxt('elecsXYZ.csv', delimiter=\",\",skip_header=1)\n",
    "dataERT = pb.load(inputfileERT) # pick up the scheme\n",
    "dataHom = pb.load('synthetic/homogeneous.ohm') # pick up the k factor\n",
    "mesh_inv = pg.load('synthetic/mesh_inv.bms') # pick up the mesh\n",
    "dataERT.set('k',(dataHom('u') / dataHom('i')))\n",
    "dataERT.set('rhoa', dataERT('k') * dataERT('r'))"
   ]
  },
  {
   "cell_type": "code",
   "execution_count": null,
   "id": "seeing-noise",
   "metadata": {},
   "outputs": [
    {
     "name": "stderr",
     "output_type": "stream",
     "text": [
      "05/03/21 - 12:58:22 - pyGIMLi - \u001b[0;32;49mINFO\u001b[0m - Found 1 regions.\n",
      "05/03/21 - 12:58:22 - pyGIMLi - \u001b[0;32;49mINFO\u001b[0m - Creating forward mesh from region infos.\n"
     ]
    }
   ],
   "source": [
    "ert = pg.physics.ERTManager()  # sr=False, verbose=True, debug=False)\n",
    "dataERT['err'] = ert.estimateError(dataERT, \n",
    "                                   absoluteError=0.001, \n",
    "                                   relativeError=0.1)\n",
    "dataERT.markInvalid(dataERT(\"rhoa\") < 0)\n",
    "dataERT.removeInvalid()\n",
    "dataERT.save('dataERT_f.data')\n",
    "model = ert.invert(data=dataERT, mesh=mesh_inv,lam=20,verbose=True)\n",
    "pg.info('Inversion stopped with chi² = {0:.3}'.format(ert.fw.chi2()))"
   ]
  },
  {
   "cell_type": "code",
   "execution_count": null,
   "id": "crude-palestinian",
   "metadata": {},
   "outputs": [],
   "source": [
    "plotter, _ = pg.show(mesh_inv, alpha=0.1, data=model, hold=True,notebook=True)\n",
    "drawSlice(plotter, mesh_inv, normal=[0,1,0], data=model, label=\"model\")\n",
    "drawSensors(plotter,  dataERT.sensors(), diam=5, color='yellow')\n",
    "plotter.show()\n",
    "\n",
    "mesh_inv.addData('model_real_inv',model)\n",
    "mesh_inv.exportVTK('model_real_inv.vtk')\n",
    "\n",
    "cov = ert.coverage()\n",
    "plotter, _ = pg.show(mesh_inv, data=cov,\n",
    "                     alpha=0.9, hold=True, \n",
    "                     label=\"Coverage\", \n",
    "                     notebook=True)\n",
    "plotter.show()"
   ]
  },
  {
   "cell_type": "code",
   "execution_count": null,
   "id": "systematic-apartment",
   "metadata": {},
   "outputs": [],
   "source": []
  }
 ],
 "metadata": {
  "kernelspec": {
   "display_name": "Python 3",
   "language": "python",
   "name": "python3"
  },
  "language_info": {
   "codemirror_mode": {
    "name": "ipython",
    "version": 3
   },
   "file_extension": ".py",
   "mimetype": "text/x-python",
   "name": "python",
   "nbconvert_exporter": "python",
   "pygments_lexer": "ipython3",
   "version": "3.7.9"
  }
 },
 "nbformat": 4,
 "nbformat_minor": 5
}
